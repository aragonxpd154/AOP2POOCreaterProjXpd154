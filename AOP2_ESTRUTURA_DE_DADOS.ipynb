{
  "nbformat": 4,
  "nbformat_minor": 0,
  "metadata": {
    "colab": {
      "provenance": [],
      "authorship_tag": "ABX9TyN5zVGg0C47yuJX4xnmoBHp",
      "include_colab_link": true
    },
    "kernelspec": {
      "name": "python3",
      "display_name": "Python 3"
    },
    "language_info": {
      "name": "python"
    }
  },
  "cells": [
    {
      "cell_type": "markdown",
      "metadata": {
        "id": "view-in-github",
        "colab_type": "text"
      },
      "source": [
        "<a href=\"https://colab.research.google.com/github/aragonxpd154/academic-purposes/blob/master/AOP2_ESTRUTURA_DE_DADOS.ipynb\" target=\"_parent\"><img src=\"https://colab.research.google.com/assets/colab-badge.svg\" alt=\"Open In Colab\"/></a>"
      ]
    },
    {
      "cell_type": "markdown",
      "source": [
        "# **ATIVIDADE ONLINE PONTUADA 02**\n",
        "\n",
        "---\n",
        "\n",
        "ALUNO: MARCOS SILVA DOS SANTOS\n",
        "\n",
        "MATÉRIA: ESTRUTURA DE DADOS\n",
        "\n",
        "PROFESSOR: ELON\n"
      ],
      "metadata": {
        "id": "yk-oYvuBeO0u"
      }
    },
    {
      "cell_type": "markdown",
      "source": [
        "**1 - REALIZANDO CÁLCULO DA MÉDIA DO VALOR GASTO POR CLIENTE**\n",
        "\n",
        "---\n",
        "Esse codigo tem como base, o exemplo da classe Nodo, Lista e Cliente proposto na atividade AOP2 de Estrutura de Dados.\n",
        "\n",
        "---\n",
        "\n"
      ],
      "metadata": {
        "id": "b2BhAzXf1VkA"
      }
    },
    {
      "cell_type": "code",
      "source": [
        "# Criando uma classe \"Nodo\" que vai representar um elemnto de uma lista encadeada\n",
        "class Nodo:\n",
        "\n",
        "    # Definindo o metodo __init__ construtor da classe Nodo que vai iniciara classe com os valores iniciais de \"dado\" e \"próximo\"\n",
        "    def __init__(self, dado=0, proximo=None):\n",
        "        self.dado = dado\n",
        "        self.proximo = proximo\n",
        "    \n",
        "    # Definindo método __rept__ que vai retornar uma string que representa a classe Nodo e mostrando os valores de \"dado\" e \"proximo\" nodo da lista\n",
        "    def __repr__(self):\n",
        "        return f'{self.dado} -> {self.proximo}'\n",
        "\n",
        "# Definindo classe Cliente que vai representar um cliente com \"nome\" e \"valor da conta\"\n",
        "class Cliente():\n",
        "\n",
        "  # Inicializando o método __init__ construtor da classe que vai iniciar a classe Cliente mostrando os valores iniciais de \"nome\" e \"valorDaConta\"\n",
        "    def __init__(self, nome, valorDaConta):\n",
        "        self.nome = nome\n",
        "        self.valorDaConta = valorDaConta\n",
        "\n",
        "    # Inicializando o método __rept__ para retornar uma string que representa o Cliente, que vai mostrar o seu valor de \"nome\" e \"valorDaConta\".\n",
        "    def __repr__(self):\n",
        "        return f'{self.nome} - {self.valorDaConta}'\n",
        "\n",
        "# Definindo uma classe \"ListaSimplesmenteEncadeada\" que vai representar a lista encadeada em si\n",
        "class ListaSimplesmenteEncadeada:\n",
        "\n",
        "    # Definindo o método __init__ que é o construtor da classe e éresponsavel por inicializar a lista com o valor inicial.\n",
        "    def __init__(self):\n",
        "        self.head = None\n",
        "        self.tamanhoDaLista = 0\n",
        "\n",
        "    # Definindo o método \"insere\" que vai reeber um novo dado como paâmetro e inserir um novo Nodo contendo esse dado no incício da lista encadeada,\n",
        "    # Atualizando o valor de hear e incrementando o tamanhoDaLista\n",
        "    def insere(self, novoDado):\n",
        "        novoNodo = Nodo(novoDado)\n",
        "        novoNodo.proximo = self.head\n",
        "        self.head = novoNodo\n",
        "        self.tamanhoDaLista += 1\n",
        "    \n",
        "    # Definindo método \"delete\" que vai remover o primeiro elemento da lista encadeada, se houver, atualizando o valor de head e decrementando\n",
        "    # o tamanhoDaLista\n",
        "    def delete(self):\n",
        "        if self.head == None:\n",
        "            print('A lista já está vazia')\n",
        "        else:\n",
        "            self.head = self.head.proximo\n",
        "            self.tamanhoDaLista -= 1\n",
        "    \n",
        "    # Definindno o método \"calculaMedia\" que calcula a média do valorDaConta de todos os Clientes na lista encadeada\n",
        "    # Se a lista estiver vazia, retorna a 0. Caso contrário itera sobre todos os Nodos da lista, comando os valorDaConta dos Clientes dividindo-o pelo tamanhoDaLista\n",
        "    def calculaMedia(self):\n",
        "        if self.tamanhoDaLista == 0:\n",
        "            return 0\n",
        "        else:\n",
        "            total = 0\n",
        "            atual = self.head\n",
        "            while atual != None:\n",
        "                total += atual.dado.valorDaConta\n",
        "                atual = atual.proximo\n",
        "            return total / self.tamanhoDaLista\n"
      ],
      "metadata": {
        "id": "9g0viY5oe5Lq"
      },
      "execution_count": 3,
      "outputs": []
    },
    {
      "cell_type": "markdown",
      "source": [
        "***Ralizando os testes e comprovando o funcionamento correto***"
      ],
      "metadata": {
        "id": "6glUXVwS9WLJ"
      }
    },
    {
      "cell_type": "code",
      "source": [
        "# Criando alguns clientes de exemplo\n",
        "c1 = Cliente('João', 60)\n",
        "c2 = Cliente('Maria', 60)\n",
        "c3 = Cliente('Pedro', 60)\n",
        "\n",
        "# Criando uma lista encadeada com esses clientes\n",
        "lista = ListaSimplesmenteEncadeada()\n",
        "lista.insere(c1)\n",
        "lista.insere(c2)\n",
        "lista.insere(c3)\n",
        "\n",
        "# Calculando a média de valor gasto por cliente na lista\n",
        "media = lista.calculaMedia()\n",
        "print(f'A média de valor gasto por cliente é: {media}')"
      ],
      "metadata": {
        "colab": {
          "base_uri": "https://localhost:8080/"
        },
        "id": "hevvQojF98ZN",
        "outputId": "3eec5fff-f41b-4906-856f-971d4444055e"
      },
      "execution_count": 5,
      "outputs": [
        {
          "output_type": "stream",
          "name": "stdout",
          "text": [
            "A média de valor gasto por cliente é: 60.0\n"
          ]
        }
      ]
    }
  ]
}