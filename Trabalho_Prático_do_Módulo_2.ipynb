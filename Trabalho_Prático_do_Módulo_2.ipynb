{
  "nbformat": 4,
  "nbformat_minor": 0,
  "metadata": {
    "colab": {
      "provenance": [],
      "authorship_tag": "ABX9TyOkDtMyAgt2IC51j+EXjuXV",
      "include_colab_link": true
    },
    "kernelspec": {
      "name": "python3",
      "display_name": "Python 3"
    },
    "language_info": {
      "name": "python"
    }
  },
  "cells": [
    {
      "cell_type": "markdown",
      "metadata": {
        "id": "view-in-github",
        "colab_type": "text"
      },
      "source": [
        "<a href=\"https://colab.research.google.com/github/aragonxpd154/academic-purposes/blob/master/Trabalho_Pr%C3%A1tico_do_M%C3%B3dulo_2.ipynb\" target=\"_parent\"><img src=\"https://colab.research.google.com/assets/colab-badge.svg\" alt=\"Open In Colab\"/></a>"
      ]
    },
    {
      "cell_type": "markdown",
      "source": [
        "# **ATIVIDADE 2**"
      ],
      "metadata": {
        "id": "fDNKjXxGJuwF"
      }
    },
    {
      "cell_type": "code",
      "execution_count": 1,
      "metadata": {
        "id": "t88_heNTJrNz"
      },
      "outputs": [],
      "source": [
        "# importando as biblotecas\n",
        "import numpy as np\n",
        "import pandas as pd"
      ]
    },
    {
      "cell_type": "markdown",
      "source": [
        "# **ATIVIDADE 3**"
      ],
      "metadata": {
        "id": "fG_sK6P2J7Lo"
      }
    },
    {
      "cell_type": "code",
      "source": [
        "# == CÓDIGO 1 == # \n",
        "Z = np.zeros((4, ))\n",
        "print(\"Z:\", Z)\n",
        "print(\"\\n\")\n",
        "\n",
        "# == CÓDIGO 2 == #\n",
        "Z = np.zeros((4, )) \n",
        "Z[1] = 1.\n",
        "print(\"Z:\", Z)\n",
        "print(\"\\n\")\n",
        "\n",
        "# == CÓDIGO 3 == # \n",
        "Z = np.zeros((4, )) \n",
        "Z[1:]= 1.\n",
        "print(\"Z: \", Z)\n",
        "print(\"\\n\")\n",
        "\n",
        "# CÓDIGO 4 == # == \n",
        "Z = np.zeros((4, ))\n",
        "Z[:3] = 1\n",
        "print(\"Z: \", Z)\n",
        "print(\"\\n\")\n",
        "\n",
        "# CÓDIGO 5 == # ==\n",
        "X = np.ones((2,2)) * 2\n",
        "print(\"X:\\n\", X)\n",
        "print(\"\\n\")\n",
        "\n",
        "# == CÓDIGO 6 == #\n",
        "X = np.array([[1, 2], [3, 4]])\n",
        "Y = X[0, :]\n",
        "Y[1] = 10 \n",
        "print(\"X:\\n\", X)\n",
        "print(\"\\n\")\n",
        "\n",
        "# == CÓDIGO 7 == #\n",
        "X = np.array([[1, 3], [11, 10]]) \n",
        "print(np.mean(X[X > np.pi]))\n",
        "print(\"\\n\")\n",
        "\n",
        "# == CÓDIGO 8\n",
        "data = {'animal': ['cat', 'cat', 'snake', 'dog', 'dog', 'cat', 'snake', 'cat', 'dog', 'dog'],\n",
        "'age': [2.5, 3, 0.5, np.nan, 5, 2, 4.5, np.nan, 7, 3], \n",
        "'visits': [1, 3, 2, 3, 2, 3, 1, 1, 2, 1], \n",
        "'priority': ['yes', 'yes', 'no', 'yes', 'no', 'no', 'no', 'yes', 'no', 'no']}\n",
        "\n",
        "labels = ['a', 'b', 'c', 'd', 'e', 'f', 'g', 'h', 'i', 'j']\n",
        "print(\"\\n\")\n",
        "\n",
        "# CÓDIGO 9 == #\n",
        "df = pd.DataFrame(data=data, index=labels)\n",
        "print(\"\\n\")\n",
        "\n",
        "# CÓDIGO 10 == # == \n",
        "y_true = np.array([1., 2., 1.]) \n",
        "y_pred = np.array([1.1, 1.98, 1.05])\n",
        "print(\"\\n\")\n"
      ],
      "metadata": {
        "colab": {
          "base_uri": "https://localhost:8080/"
        },
        "id": "gR7wLojDJ_oN",
        "outputId": "33763497-41f1-48ff-9cd3-5b7e8555cf67"
      },
      "execution_count": 11,
      "outputs": [
        {
          "output_type": "stream",
          "name": "stdout",
          "text": [
            "Z: [0. 0. 0. 0.]\n",
            "\n",
            "\n",
            "Z: [0. 1. 0. 0.]\n",
            "\n",
            "\n",
            "Z:  [0. 1. 1. 1.]\n",
            "\n",
            "\n",
            "Z:  [1. 1. 1. 0.]\n",
            "\n",
            "\n",
            "X:\n",
            " [[2. 2.]\n",
            " [2. 2.]]\n",
            "\n",
            "\n",
            "X:\n",
            " [[ 1 10]\n",
            " [ 3  4]]\n",
            "\n",
            "\n",
            "10.5\n",
            "\n",
            "\n",
            "\n",
            "\n",
            "\n",
            "\n",
            "\n",
            "\n"
          ]
        }
      ]
    }
  ]
}