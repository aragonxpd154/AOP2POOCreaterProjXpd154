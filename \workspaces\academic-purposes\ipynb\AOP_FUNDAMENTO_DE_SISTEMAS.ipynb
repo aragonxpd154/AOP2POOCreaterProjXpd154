{
 "cells": [
  {
   "attachments": {},
   "cell_type": "markdown",
   "metadata": {},
   "source": [
    "AOP 2 - FUNDAMENTEO DE SISTEMAS DE INFORMAÇÃO\n",
    "a) Explique com suas palavras o que é o SAD.\n",
    "Sistema de Apoio à Decisão (SAD) é um tipo de software que ajuda as pessoas a tomarem decisões melhores e mais informadas. Eles são usados por empresas e organizações para ajudar na tomada de decisões importantes. O SAD pode analisar dados, gerar relatórios, fazer previsões e simulações, além de dar recomendações aos usuários. Esses sistemas podem usar tecnologias como regras, aprendizado de máquina, inteligência artificial ou uma combinação delas.\n",
    "\n",
    "b) Qual a sua importância para a organização?\n",
    "Ao usar o SAD, as empresas podem automatizar a tomada de decisões, o que acelera o processo de decisão diante das mudanças no ambiente de negócios. Isso pode levar a vantagens competitivas e maior eficiência. Além disso, um SAD permite simular cenários hipotéticos e testar possíveis soluções antes de implementá-las. Isso ajuda as empresas a avaliar os resultados possíveis e escolher a melhor opção.\n",
    "\n",
    "\n",
    "c) Dê exemplos de SAD.\n",
    "Existem vários tipos de SAD que são usados em diferentes áreas de negócios. Alguns exemplos são:\n",
    "\n",
    "Sistemas de Business Intelligence (BI): Esses sistemas ajudam a coletar, analisar e apresentar dados de negócios para tomar decisões. Eles podem incluir painéis, relatórios e gráficos. Um exemplo é o Microsoft Power BI, que permite criar relatórios e painéis interativos com dados de várias fontes.\n",
    "\n",
    "Sistemas de Previsão de Demanda: Esses sistemas ajudam a prever a demanda futura de produtos ou serviços com base em dados históricos e tendências de mercado. Um exemplo é o SAP Integrated Business Planning, que oferece recursos avançados de previsão de demanda para ajudar as organizações a melhorar a precisão da previsão.\n",
    "\n",
    "Sistemas de Suporte à Decisão Clínica: Esses sistemas ajudam os profissionais de saúde a tomar decisões clínicas. Eles podem incluir dados de registros médicos eletrônicos e recomendações baseadas em evidências científicas. Um exemplo é o UpToDate, que oferece informações atualizadas e baseadas em evidências para apoiar a tomada de decisões clínicas em várias áreas de especialização médica.\n",
    "\n",
    "d) Explique como uma planilha eletrônica serve de ferramenta de auxílio para tomada de decisões.\n",
    "Uma planilha eletrônica, como o Microsoft Excel, pode ajudar na tomada de decisões porque permite criar modelos e fazer cálculos rapidamente. Com ela, é possível fazer cálculos simples ou complexos, criar tabelas e gráficos para visualizar dados e identificar padrões e tendências importantes para tomar decisões informadas. A planilha também é flexível e permite atualizações rápidas e testes de diferentes cenários para analisar suas implicações em um negócio ou processo."
   ]
  }
 ],
 "metadata": {
  "language_info": {
   "name": "python"
  },
  "orig_nbformat": 4
 },
 "nbformat": 4,
 "nbformat_minor": 2
}
