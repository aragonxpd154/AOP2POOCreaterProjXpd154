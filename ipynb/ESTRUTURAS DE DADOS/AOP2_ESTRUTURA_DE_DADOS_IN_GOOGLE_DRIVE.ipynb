{
  "cells": [
    {
      "cell_type": "markdown",
      "metadata": {
        "id": "view-in-github",
        "colab_type": "text"
      },
      "source": [
        "<a href=\"https://colab.research.google.com/github/aragonxpd154/academic-purposes/blob/master/AOP2_ESTRUTURA_DE_DADOS_IN_GOOGLE_DRIVE.ipynb\" target=\"_parent\"><img src=\"https://colab.research.google.com/assets/colab-badge.svg\" alt=\"Open In Colab\"/></a>"
      ]
    },
    {
      "cell_type": "markdown",
      "metadata": {
        "id": "yk-oYvuBeO0u"
      },
      "source": [
        "# **ATIVIDADE ONLINE PONTUADA 02**\n",
        "\n",
        "---\n",
        "\n",
        "ALUNO: MARCOS SILVA DOS SANTOS\n",
        "\n",
        "MATÉRIA: ESTRUTURA DE DADOS\n",
        "\n",
        "PROFESSOR: ERLON PINHEIRO\n"
      ]
    },
    {
      "cell_type": "markdown",
      "metadata": {
        "id": "b2BhAzXf1VkA"
      },
      "source": [
        "\n",
        "\n",
        "---\n",
        "\n",
        "\n",
        "\n",
        "**1 - REALIZANDO CÁLCULO DA MÉDIA DO VALOR GASTO POR CLIENTE**\n",
        "\n",
        "---\n",
        "Esse codigo tem como base, o exemplo da classe Nodo, Lista e Cliente proposto na atividade AOP2 de Estrutura de Dados.\n",
        "\n",
        "---\n",
        "\n"
      ]
    },
    {
      "cell_type": "code",
      "execution_count": null,
      "metadata": {
        "id": "9g0viY5oe5Lq"
      },
      "outputs": [],
      "source": [
        "# Criando uma classe \"Nodo\" que vai representar um elemnto de uma lista encadeada\n",
        "class Nodo:\n",
        "\n",
        "    # Definindo o metodo __init__ construtor da classe Nodo que vai iniciara classe com os valores iniciais de \"dado\" e \"próximo\"\n",
        "    def __init__(self, dado=0, proximo=None):\n",
        "        self.dado = dado\n",
        "        self.proximo = proximo\n",
        "    \n",
        "    # Definindo método __rept__ que vai retornar uma string que representa a classe Nodo e mostrando os valores de \"dado\" e \"proximo\" nodo da lista\n",
        "    def __repr__(self):\n",
        "        return f'{self.dado} -> {self.proximo}'\n",
        "\n",
        "# Definindo classe Cliente que vai representar um cliente com \"nome\" e \"valor da conta\"\n",
        "class Cliente():\n",
        "\n",
        "  # Inicializando o método __init__ construtor da classe que vai iniciar a classe Cliente mostrando os valores iniciais de \"nome\" e \"valorDaConta\"\n",
        "    def __init__(self, nome, valorDaConta):\n",
        "        self.nome = nome\n",
        "        self.valorDaConta = valorDaConta\n",
        "\n",
        "    # Inicializando o método __rept__ para retornar uma string que representa o Cliente, que vai mostrar o seu valor de \"nome\" e \"valorDaConta\".\n",
        "    def __repr__(self):\n",
        "        return f'{self.nome} - {self.valorDaConta}'\n",
        "\n",
        "# Definindo uma classe \"ListaSimplesmenteEncadeada\" que vai representar a lista encadeada em si\n",
        "class ListaSimplesmenteEncadeada:\n",
        "\n",
        "    # Definindo o método __init__ que é o construtor da classe e éresponsavel por inicializar a lista com o valor inicial.\n",
        "    def __init__(self):\n",
        "        self.head = None\n",
        "        self.tamanhoDaLista = 0\n",
        "\n",
        "    # Definindo o método \"insere\" que vai reeber um novo dado como paâmetro e inserir um novo Nodo contendo esse dado no incício da lista encadeada,\n",
        "    # Atualizando o valor de hear e incrementando o tamanhoDaLista\n",
        "    def insere(self, novoDado):\n",
        "        novoNodo = Nodo(novoDado)\n",
        "        novoNodo.proximo = self.head\n",
        "        self.head = novoNodo\n",
        "        self.tamanhoDaLista += 1\n",
        "    \n",
        "    # Definindo método \"delete\" que vai remover o primeiro elemento da lista encadeada, se houver, atualizando o valor de head e decrementando\n",
        "    # o tamanhoDaLista\n",
        "    def delete(self):\n",
        "        if self.head == None:\n",
        "            print('A lista já está vazia')\n",
        "        else:\n",
        "            self.head = self.head.proximo\n",
        "            self.tamanhoDaLista -= 1\n",
        "    \n",
        "    # Definindo o método \"calculaMedia\" que calcula a média do valorDaConta de todos os Clientes na lista encadeada\n",
        "    # Se a lista estiver vazia, retorna a 0. Caso contrário itera sobre todos os Nodos da lista, comando os valorDaConta dos Clientes dividindo-o pelo tamanhoDaLista\n",
        "    def calculaMedia(self):\n",
        "        if self.tamanhoDaLista == 0:\n",
        "            return 0\n",
        "        else:\n",
        "            total = 0\n",
        "            atual = self.head\n",
        "            while atual != None:\n",
        "                total += atual.dado.valorDaConta\n",
        "                atual = atual.proximo\n",
        "            return total / self.tamanhoDaLista\n"
      ]
    },
    {
      "cell_type": "markdown",
      "metadata": {
        "id": "6glUXVwS9WLJ"
      },
      "source": [
        "\n",
        "\n",
        "---\n",
        "\n",
        "\n",
        "***Ralizando os testes e comprovando o funcionamento correto***\n",
        "\n",
        "---\n",
        "\n"
      ]
    },
    {
      "cell_type": "code",
      "execution_count": null,
      "metadata": {
        "colab": {
          "base_uri": "https://localhost:8080/"
        },
        "id": "hevvQojF98ZN",
        "outputId": "1653bdd6-9d14-427f-c39b-749193205c05"
      },
      "outputs": [
        {
          "output_type": "stream",
          "name": "stdout",
          "text": [
            "A média de valor gasto por cliente é: 60.0\n"
          ]
        }
      ],
      "source": [
        "# Criando alguns clientes de exemplo\n",
        "c1 = Cliente('João', 60)\n",
        "c2 = Cliente('Maria', 60)\n",
        "c3 = Cliente('Pedro', 60)\n",
        "\n",
        "# Criando uma lista encadeada com esses clientes\n",
        "lista = ListaSimplesmenteEncadeada()\n",
        "lista.insere(c1)\n",
        "lista.insere(c2)\n",
        "lista.insere(c3)\n",
        "\n",
        "# Calculando a média de valor gasto por cliente na lista\n",
        "media = lista.calculaMedia()\n",
        "print(f'A média de valor gasto por cliente é: {media}')"
      ]
    },
    {
      "cell_type": "markdown",
      "metadata": {
        "id": "XSH3_0m__CzP"
      },
      "source": [
        "\n",
        "---\n",
        "\n",
        "\n",
        "\n",
        "**2 - VERIFICAÇÃO SE STRING ESTÃO OU NÃO BALANCEADAS POR PILHA**\n",
        "\n",
        "\n",
        "\n",
        "---\n",
        "\n",
        "\n",
        "Implementar um código python que receba uma string de parênteses e responda se estes estão balanceados ou não, utilizando ideia da estrutura de dados pilha.\n",
        "\n",
        "\n",
        "---\n",
        "\n",
        "\n",
        "Considere as seguintes strings de parênteses corretamente balanceadas:\n",
        "\n",
        " \n",
        "\n",
        "---\n",
        "\n",
        "\n",
        "(()()()())\n",
        "\n",
        "(((()))\n",
        " \n",
        "(()((())()))\n",
        "\n",
        "\n",
        "---\n",
        "\n",
        "\n",
        "Exemplos de strings que não são balanceadas:\n",
        "\n",
        "---\n",
        "\n",
        "\n",
        "\n",
        "\n",
        "\n",
        "((((((())\n",
        "\n",
        "()))\n",
        "\n",
        "(()()(()\n",
        "\n",
        "\n",
        "---\n"
      ]
    },
    {
      "cell_type": "markdown",
      "metadata": {
        "id": "EHmUiVbvxbeS"
      },
      "source": [
        "\n",
        "***Recebendo um valor de entrada e Definindo o método \"verificar_parentes\"***\n",
        "\n",
        "\n",
        "Informação importante\n",
        "*   False = Para strings de parêntes não balanceadas.\n",
        "*   True  = Para strings de parêntes balanceadas.\n",
        "---"
      ]
    },
    {
      "cell_type": "code",
      "execution_count": null,
      "metadata": {
        "colab": {
          "base_uri": "https://localhost:8080/"
        },
        "id": "zftL-dthAPf1",
        "outputId": "474e0a08-9ecb-4897-b8ea-25923833b18c"
      },
      "outputs": [
        {
          "output_type": "stream",
          "name": "stdout",
          "text": [
            "Digite uma equação: ()()()\n",
            "True\n"
          ]
        }
      ],
      "source": [
        "# Definindo o método \"verifica_parentes\" que vai receber uma string como parâmetro \n",
        "def verifica_parentes(string):\n",
        "  # Definindo pilha vazia inicialmente\n",
        "    pilha = []\n",
        "    # Definindo um loop que vai percorrer cada caractere da string de entrada\n",
        "    for char in string:\n",
        "        # Se o caractere for um abre parênteses, adiciona-o na pilha\n",
        "        if char == '(':\n",
        "            pilha.append(char)\n",
        "        # Se o caractere for um fecha parênteses, verifica se há um abre parênteses correspondente\n",
        "        elif char == ')':\n",
        "            # Se a pilha está vazia, significa que não há um abre parênteses correspondente\n",
        "            if len(pilha) == 0:\n",
        "                # Retorna \"False\" indicando que a equação está desbalanceada\n",
        "                return \"False\"\n",
        "            # Se há um abre parênteses correspondente, remove-o da pilha\n",
        "            pilha.pop()\n",
        "    # Se a pilha está vazia, significa que todos os parênteses estão balanceados\n",
        "    return len(pilha) == 0\n",
        "\n",
        "# Definindo o método \"entrada\" para adicionar a entrada do usuario armazenar em uma variavel e validar a equação.\n",
        "def entrada():\n",
        "    # Solicita ao usuário para digitar uma equação\n",
        "    entradaIn = input(\"Digite uma equação: \")\n",
        "    # Usa o método strip() para remover os espaços em branco da entrada do usuário.\n",
        "    if entradaIn.strip() == '':\n",
        "        # Verifica se a entrada é uma string vazia e, se for, imprime uma mensagem e chama a função entrada novamente.\n",
        "        print(\"A equação não pode ser vazia.\")\n",
        "        return entrada()\n",
        "    # Verifica se a entrada contém parênteses. Se não contiver, imprime uma mensagem e chama a função entrada novamente.\n",
        "    elif '(' not in entradaIn and ')' not in entradaIn:\n",
        "        print(\"A equação não contém parênteses.\")\n",
        "        return entrada()\n",
        "    # Se tudo estiver validado repasse o valor de \"entradaIn\" para a função \"verifica_parentes()\" e retorne seu valor\n",
        "    else:\n",
        "        return verifica_parentes(entradaIn)\n",
        "        \n",
        "# Executando a função usando \"print()\"\n",
        "print(entrada())"
      ]
    },
    {
      "cell_type": "markdown",
      "metadata": {
        "id": "MId1vWgLxFSP"
      },
      "source": [
        "\n",
        "---\n",
        "\n",
        "\n",
        "**Realizando validação por debug passando valores ao método diretamente**\n",
        "\n",
        "\n",
        "---\n",
        "\n"
      ]
    },
    {
      "cell_type": "code",
      "execution_count": null,
      "metadata": {
        "colab": {
          "base_uri": "https://localhost:8080/"
        },
        "id": "ihJiPN3CxOmL",
        "outputId": "6b00fa4b-4c82-4788-f80a-61ac280b45a6"
      },
      "outputs": [
        {
          "output_type": "stream",
          "name": "stdout",
          "text": [
            "True\n",
            "True\n",
            "True\n",
            "False\n",
            "False\n",
            "False\n"
          ]
        }
      ],
      "source": [
        "# Passe valores ao método diretamente e imprima usando a função print()\n",
        "\n",
        "print(verifica_parentes('(()()()())'))      # True\n",
        "print(verifica_parentes('(((())))'))        # True\n",
        "print(verifica_parentes('(()((())()))'))    # True\n",
        "print(verifica_parentes('((((((())'))       # False\n",
        "print(verifica_parentes('()))'))            # False\n",
        "print(verifica_parentes('(()()(()'))        # False\n"
      ]
    }
  ],
  "metadata": {
    "colab": {
      "provenance": [],
      "authorship_tag": "ABX9TyNZQ2Ipg8tch7nFcVN2qIxU",
      "include_colab_link": true
    },
    "kernelspec": {
      "display_name": "Python 3",
      "name": "python3"
    },
    "language_info": {
      "codemirror_mode": {
        "name": "ipython",
        "version": 3
      },
      "file_extension": ".py",
      "mimetype": "text/x-python",
      "name": "python",
      "nbconvert_exporter": "python",
      "pygments_lexer": "ipython3",
      "version": "3.10.4"
    }
  },
  "nbformat": 4,
  "nbformat_minor": 0
}