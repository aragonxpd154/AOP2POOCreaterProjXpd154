{
  "nbformat": 4,
  "nbformat_minor": 0,
  "metadata": {
    "colab": {
      "provenance": [],
      "authorship_tag": "ABX9TyN+R2hoBO1Sq2jQZh/UK83n",
      "include_colab_link": true
    },
    "kernelspec": {
      "name": "python3",
      "display_name": "Python 3"
    },
    "language_info": {
      "name": "python"
    }
  },
  "cells": [
    {
      "cell_type": "markdown",
      "metadata": {
        "id": "view-in-github",
        "colab_type": "text"
      },
      "source": [
        "<a href=\"https://colab.research.google.com/github/aragonxpd154/academic-purposes/blob/master/DESAFIO_DO_M%C3%93DULO_1.ipynb\" target=\"_parent\"><img src=\"https://colab.research.google.com/assets/colab-badge.svg\" alt=\"Open In Colab\"/></a>"
      ]
    },
    {
      "cell_type": "markdown",
      "source": [
        "### **ATIVIDADE 01**"
      ],
      "metadata": {
        "id": "fDYMdyp7JLIY"
      }
    },
    {
      "cell_type": "code",
      "execution_count": 17,
      "metadata": {
        "colab": {
          "base_uri": "https://localhost:8080/"
        },
        "id": "z193ofxbJKEq",
        "outputId": "5afe632d-f8b3-4f7e-9d75-f27513c856da"
      },
      "outputs": [
        {
          "output_type": "stream",
          "name": "stdout",
          "text": [
            "8\n",
            "6\n"
          ]
        }
      ],
      "source": [
        "# Relação dos nomes\n",
        "nomes = ['Maria', 'Julieta', 'Fernando', 'Cristiano', 'Julieta', 'Maria', ' Fernando', 'Cláudio']\n",
        "\n",
        "# Estrutura que irá armazenar o número de letras de cada nome\n",
        "qtd_letras={}\n",
        "\n",
        "# Calcula o tamanho de cada nome (em número de letras) e armazena o valor na estrutura\n",
        "for nome in nomes:\n",
        "  qtd_letras[nome] = len(nome)\n"
      ]
    },
    {
      "cell_type": "markdown",
      "source": [
        "### **ATIVIDADE 02**"
      ],
      "metadata": {
        "id": "LSm9qzWhLFNi"
      }
    },
    {
      "cell_type": "code",
      "source": [
        "# Relação dos nomes\n",
        "nomes = ['Maria', 'Julieta', 'Fernando', 'Cristiano', 'Julieta', 'Maria', ' Fernando', 'Cláudio']\n",
        "\n",
        "# Calcula o tamanho de cada nome (em número de letras) e armazena o valor na estrutura utilizando compreensão de dicionários\n",
        "qtd_letras = {nome: len(nome) for nome in nomes}\n"
      ],
      "metadata": {
        "id": "3jLWSCl6LErW"
      },
      "execution_count": 4,
      "outputs": []
    },
    {
      "cell_type": "markdown",
      "source": [
        "### **ATIVIDADE 03**"
      ],
      "metadata": {
        "id": "kGIxwCVULM9z"
      }
    },
    {
      "cell_type": "code",
      "source": [
        "def area(r, pi):\n",
        "    return pi * r**2\n",
        "\n",
        "area(5, 3.141592)"
      ],
      "metadata": {
        "colab": {
          "base_uri": "https://localhost:8080/"
        },
        "id": "-RDNNKMRLRAE",
        "outputId": "22637291-965d-4477-cb4a-8e9581c07278"
      },
      "execution_count": 7,
      "outputs": [
        {
          "output_type": "execute_result",
          "data": {
            "text/plain": [
              "78.5398"
            ]
          },
          "metadata": {},
          "execution_count": 7
        }
      ]
    },
    {
      "cell_type": "markdown",
      "source": [
        "### **ATIVIDADE 04**"
      ],
      "metadata": {
        "id": "loFRX4zEMJSl"
      }
    },
    {
      "cell_type": "code",
      "source": [
        "area = lambda r, pi: pi * r**2"
      ],
      "metadata": {
        "id": "BoUf1-ilMMYO"
      },
      "execution_count": null,
      "outputs": []
    },
    {
      "cell_type": "markdown",
      "source": [
        "### **ATIVIDADE 05**"
      ],
      "metadata": {
        "id": "1EJQN_ZGMPqr"
      }
    },
    {
      "cell_type": "code",
      "source": [
        "def maior_impar(lista):\n",
        "    \"\"\"\n",
        "    Encontra e retorna o maior número ímpar presente na lista.\n",
        "    Retorna None caso não exista nenhum número ímpar na lista.\n",
        "    \"\"\"\n",
        "    impares = [num for num in lista if num % 2 == 1] # filtra apenas os ímpares\n",
        "    if not impares:\n",
        "        return None\n",
        "    return max(impares)\n",
        "\n",
        "def menor_impar(lista):\n",
        "    \"\"\"\n",
        "    Encontra e retorna o menor número ímpar presente na lista.\n",
        "    Retorna None caso não exista nenhum número ímpar na lista.\n",
        "    \"\"\"\n",
        "    impares = [num for num in lista if num % 2 == 1] # filtra apenas os ímpares\n",
        "    if not impares:\n",
        "        return None\n",
        "    return min(impares)\n",
        "\n",
        "def maior_e_menor_impar(lista):\n",
        "    \"\"\"\n",
        "    Encontra e retorna o maior e o menor número ímpar presentes na lista, respectivamente.\n",
        "    Retorna None caso não exista nenhum número ímpar na lista.\n",
        "    \"\"\"\n",
        "    impares = [num for num in lista if num % 2 == 1] # filtra apenas os ímpares\n",
        "    if not impares:\n",
        "        return None, None\n",
        "    return max(impares), min(impares)\n"
      ],
      "metadata": {
        "id": "eL75wA3oNPqD"
      },
      "execution_count": null,
      "outputs": []
    },
    {
      "cell_type": "markdown",
      "source": [
        "### **ATIVIDADE 06**"
      ],
      "metadata": {
        "id": "O38wz1p4NXVU"
      }
    },
    {
      "cell_type": "code",
      "source": [
        "# relação de dias da semana que cada médico atende\n",
        "cardiologista = {'terca', 'quarta'}\n",
        "ortopedista = {'terca', 'quinta'}\n",
        "dermatologista = {'segunda', 'quarta', 'sexta'}\n",
        "neurologista = {'terca', 'quinta', 'sexta'}\n",
        "psiquiatra = {'segunda', 'quarta', 'sexta'}\n",
        "\n",
        "def disp_dois_especialistas(medico01, medico02):\n",
        "    \"\"\"\n",
        "    Calcula quais os dias possíveis para dois médicos.\n",
        "    Retorna um conjunto com os dias disponíveis.\n",
        "    \"\"\"\n",
        "    dias_disponiveis = medico01.intersection(medico02) # intersecção dos dias disponíveis\n",
        "    return dias_disponiveis\n",
        "\n",
        "def disp_tres_especialistas(medico01, medico02, medico03):\n",
        "    \"\"\"\n",
        "    Calcula quais os dias possíveis para três médicos.\n",
        "    Retorna um conjunto com os dias disponíveis.\n",
        "    \"\"\"\n",
        "    dias_disponiveis = medico01.intersection(medico02, medico03) # intersecção dos dias disponíveis\n",
        "    return dias_disponiveis\n"
      ],
      "metadata": {
        "id": "jEKonaKCNaEM"
      },
      "execution_count": 8,
      "outputs": []
    },
    {
      "cell_type": "code",
      "source": [
        "# Debug\n",
        "disp_dois_especialistas(ortopedista, neurologista)"
      ],
      "metadata": {
        "colab": {
          "base_uri": "https://localhost:8080/"
        },
        "id": "Ndri9ZT6OHOc",
        "outputId": "331b6335-455a-4949-fa5e-3b9630d9e470"
      },
      "execution_count": 9,
      "outputs": [
        {
          "output_type": "execute_result",
          "data": {
            "text/plain": [
              "{'quinta', 'terca'}"
            ]
          },
          "metadata": {},
          "execution_count": 9
        }
      ]
    }
  ]
}